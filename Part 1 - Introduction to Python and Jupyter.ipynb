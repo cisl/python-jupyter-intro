{
 "cells": [
  {
   "cell_type": "markdown",
   "metadata": {
    "slideshow": {
     "slide_type": "slide"
    },
    "toc": true
   },
   "source": [
    "<h1>Table of Contents<span class=\"tocSkip\"></span></h1>\n",
    "<div class=\"toc\" style=\"margin-top: 1em;\"><ul class=\"toc-item\"><li><span><a href=\"#Why-this-topic,-why-now?\" data-toc-modified-id=\"Why-this-topic,-why-now?-1\"><span class=\"toc-item-num\">1&nbsp;&nbsp;</span>Why this topic, why now?</a></span></li><li><span><a href=\"#Introduction-to-Jupyter\" data-toc-modified-id=\"Introduction-to-Jupyter-2\"><span class=\"toc-item-num\">2&nbsp;&nbsp;</span>Introduction to Jupyter</a></span><ul class=\"toc-item\"><li><span><a href=\"#Overview-of-Jupyter\" data-toc-modified-id=\"Overview-of-Jupyter-2.1\"><span class=\"toc-item-num\">2.1&nbsp;&nbsp;</span>Overview of Jupyter</a></span></li><li><span><a href=\"#Jupyter-Kernels-(Language-Support)\" data-toc-modified-id=\"Jupyter-Kernels-(Language-Support)-2.2\"><span class=\"toc-item-num\">2.2&nbsp;&nbsp;</span>Jupyter Kernels (Language Support)</a></span></li><li><span><a href=\"#Getting-up-and-running-in-Jupyter\" data-toc-modified-id=\"Getting-up-and-running-in-Jupyter-2.3\"><span class=\"toc-item-num\">2.3&nbsp;&nbsp;</span>Getting up and running in Jupyter</a></span></li><li><span><a href=\"#You-can-also\" data-toc-modified-id=\"You-can-also-2.4\"><span class=\"toc-item-num\">2.4&nbsp;&nbsp;</span>You can also</a></span></li><li><span><a href=\"#Markdown\" data-toc-modified-id=\"Markdown-2.5\"><span class=\"toc-item-num\">2.5&nbsp;&nbsp;</span>Markdown</a></span><ul class=\"toc-item\"><li><span><a href=\"#Markdown-syntax-examples\" data-toc-modified-id=\"Markdown-syntax-examples-2.5.1\"><span class=\"toc-item-num\">2.5.1&nbsp;&nbsp;</span>Markdown syntax examples</a></span></li></ul></li><li><span><a href=\"#Jupyter-Pros-and-Cons\" data-toc-modified-id=\"Jupyter-Pros-and-Cons-2.6\"><span class=\"toc-item-num\">2.6&nbsp;&nbsp;</span>Jupyter Pros and Cons</a></span></li><li><span><a href=\"#JupyterLab-(In-Beta)\" data-toc-modified-id=\"JupyterLab-(In-Beta)-2.7\"><span class=\"toc-item-num\">2.7&nbsp;&nbsp;</span>JupyterLab (In Beta)</a></span></li></ul></li><li><span><a href=\"#Overview-of-Python\" data-toc-modified-id=\"Overview-of-Python-3\"><span class=\"toc-item-num\">3&nbsp;&nbsp;</span>Overview of Python</a></span><ul class=\"toc-item\"><li><span><a href=\"#Python-2-vs-3\" data-toc-modified-id=\"Python-2-vs-3-3.1\"><span class=\"toc-item-num\">3.1&nbsp;&nbsp;</span>Python 2 vs 3</a></span></li><li><span><a href=\"#Numeric/Scientific-Computing-in-Python\" data-toc-modified-id=\"Numeric/Scientific-Computing-in-Python-3.2\"><span class=\"toc-item-num\">3.2&nbsp;&nbsp;</span>Numeric/Scientific Computing in Python</a></span><ul class=\"toc-item\"><li><span><a href=\"#Example-Numpy-modules\" data-toc-modified-id=\"Example-Numpy-modules-3.2.1\"><span class=\"toc-item-num\">3.2.1&nbsp;&nbsp;</span>Example Numpy modules</a></span></li><li><span><a href=\"#Example-Scipy-Modules\" data-toc-modified-id=\"Example-Scipy-Modules-3.2.2\"><span class=\"toc-item-num\">3.2.2&nbsp;&nbsp;</span>Example Scipy Modules</a></span></li><li><span><a href=\"#Numpy-for-Matlab-Users\" data-toc-modified-id=\"Numpy-for-Matlab-Users-3.2.3\"><span class=\"toc-item-num\">3.2.3&nbsp;&nbsp;</span>Numpy for Matlab Users</a></span></li></ul></li></ul></li><li><span><a href=\"#Python-Syntax\" data-toc-modified-id=\"Python-Syntax-4\"><span class=\"toc-item-num\">4&nbsp;&nbsp;</span>Python Syntax</a></span><ul class=\"toc-item\"><li><span><a href=\"#Variables\" data-toc-modified-id=\"Variables-4.1\"><span class=\"toc-item-num\">4.1&nbsp;&nbsp;</span>Variables</a></span><ul class=\"toc-item\"><li><span><a href=\"#Define-and-Print-Variables\" data-toc-modified-id=\"Define-and-Print-Variables-4.1.1\"><span class=\"toc-item-num\">4.1.1&nbsp;&nbsp;</span>Define and Print Variables</a></span></li><li><span><a href=\"#Boolean\" data-toc-modified-id=\"Boolean-4.1.2\"><span class=\"toc-item-num\">4.1.2&nbsp;&nbsp;</span>Boolean</a></span></li><li><span><a href=\"#Strings\" data-toc-modified-id=\"Strings-4.1.3\"><span class=\"toc-item-num\">4.1.3&nbsp;&nbsp;</span>Strings</a></span></li><li><span><a href=\"#Lists\" data-toc-modified-id=\"Lists-4.1.4\"><span class=\"toc-item-num\">4.1.4&nbsp;&nbsp;</span>Lists</a></span></li><li><span><a href=\"#Dictionaries\" data-toc-modified-id=\"Dictionaries-4.1.5\"><span class=\"toc-item-num\">4.1.5&nbsp;&nbsp;</span>Dictionaries</a></span></li></ul></li><li><span><a href=\"#Math-Operators\" data-toc-modified-id=\"Math-Operators-4.2\"><span class=\"toc-item-num\">4.2&nbsp;&nbsp;</span>Math Operators</a></span><ul class=\"toc-item\"><li><span><a href=\"#Working-with-integer-and-float-variables\" data-toc-modified-id=\"Working-with-integer-and-float-variables-4.2.1\"><span class=\"toc-item-num\">4.2.1&nbsp;&nbsp;</span>Working with integer and float variables</a></span></li></ul></li><li><span><a href=\"#Variable-Values-and-References\" data-toc-modified-id=\"Variable-Values-and-References-4.3\"><span class=\"toc-item-num\">4.3&nbsp;&nbsp;</span>Variable Values and References</a></span></li><li><span><a href=\"#Loops\" data-toc-modified-id=\"Loops-4.4\"><span class=\"toc-item-num\">4.4&nbsp;&nbsp;</span>Loops</a></span><ul class=\"toc-item\"><li><span><a href=\"#Standard-for-Loop\" data-toc-modified-id=\"Standard-for-Loop-4.4.1\"><span class=\"toc-item-num\">4.4.1&nbsp;&nbsp;</span>Standard <em>for</em> Loop</a></span></li><li><span><a href=\"#for-Loop-using-enumerate\" data-toc-modified-id=\"for-Loop-using-enumerate-4.4.2\"><span class=\"toc-item-num\">4.4.2&nbsp;&nbsp;</span><em>for</em> Loop using <em>enumerate</em></a></span></li><li><span><a href=\"#for-Loop-using-Dictionaries\" data-toc-modified-id=\"for-Loop-using-Dictionaries-4.4.3\"><span class=\"toc-item-num\">4.4.3&nbsp;&nbsp;</span><em>for</em> Loop using Dictionaries</a></span></li><li><span><a href=\"#List-comprehension\" data-toc-modified-id=\"List-comprehension-4.4.4\"><span class=\"toc-item-num\">4.4.4&nbsp;&nbsp;</span>List comprehension</a></span></li></ul></li><li><span><a href=\"#Conditionals\" data-toc-modified-id=\"Conditionals-4.5\"><span class=\"toc-item-num\">4.5&nbsp;&nbsp;</span>Conditionals</a></span></li><li><span><a href=\"#Functions\" data-toc-modified-id=\"Functions-4.6\"><span class=\"toc-item-num\">4.6&nbsp;&nbsp;</span>Functions</a></span><ul class=\"toc-item\"><li><span><a href=\"#Standard-Functions\" data-toc-modified-id=\"Standard-Functions-4.6.1\"><span class=\"toc-item-num\">4.6.1&nbsp;&nbsp;</span>Standard Functions</a></span></li><li><span><a href=\"#Functions-that-return-values\" data-toc-modified-id=\"Functions-that-return-values-4.6.2\"><span class=\"toc-item-num\">4.6.2&nbsp;&nbsp;</span>Functions that return values</a></span></li><li><span><a href=\"#Shorthand-Functions-(lambda)\" data-toc-modified-id=\"Shorthand-Functions-(lambda)-4.6.3\"><span class=\"toc-item-num\">4.6.3&nbsp;&nbsp;</span>Shorthand Functions (<em>lambda</em>)</a></span></li></ul></li><li><span><a href=\"#Imports\" data-toc-modified-id=\"Imports-4.7\"><span class=\"toc-item-num\">4.7&nbsp;&nbsp;</span>Imports</a></span></li><li><span><a href=\"#Helpful-configurations\" data-toc-modified-id=\"Helpful-configurations-4.8\"><span class=\"toc-item-num\">4.8&nbsp;&nbsp;</span>Helpful configurations</a></span></li><li><span><a href=\"#Intro-to-Numpy\" data-toc-modified-id=\"Intro-to-Numpy-4.9\"><span class=\"toc-item-num\">4.9&nbsp;&nbsp;</span>Intro to Numpy</a></span><ul class=\"toc-item\"><li><span><a href=\"#Numpy-Math\" data-toc-modified-id=\"Numpy-Math-4.9.1\"><span class=\"toc-item-num\">4.9.1&nbsp;&nbsp;</span>Numpy Math</a></span></li><li><span><a href=\"#Numpy-Arrays-and-Matrices\" data-toc-modified-id=\"Numpy-Arrays-and-Matrices-4.9.2\"><span class=\"toc-item-num\">4.9.2&nbsp;&nbsp;</span>Numpy Arrays and Matrices</a></span></li></ul></li><li><span><a href=\"#Random-Numbers-and-Plotting\" data-toc-modified-id=\"Random-Numbers-and-Plotting-4.10\"><span class=\"toc-item-num\">4.10&nbsp;&nbsp;</span>Random Numbers and Plotting</a></span></li><li><span><a href=\"#Pandas\" data-toc-modified-id=\"Pandas-4.11\"><span class=\"toc-item-num\">4.11&nbsp;&nbsp;</span>Pandas</a></span></li></ul></li></ul></div>"
   ]
  },
  {
   "cell_type": "markdown",
   "metadata": {
    "slideshow": {
     "slide_type": "slide"
    }
   },
   "source": [
    "# Why this topic, why now?\n",
    "* Jupyter allows for living computational documents\n",
    "* Explosion in use and new libraries in Python\n",
    "* Streamlined sharing of knowledge\n",
    "* Real-time interactive learning\n",
    "* Compute Canada launched a free Jupyter instance about a year ago"
   ]
  },
  {
   "cell_type": "markdown",
   "metadata": {
    "slideshow": {
     "slide_type": "slide"
    }
   },
   "source": [
    "# Introduction to Jupyter"
   ]
  },
  {
   "cell_type": "markdown",
   "metadata": {
    "slideshow": {
     "slide_type": "slide"
    }
   },
   "source": [
    "https://github.com/cisl/python-jupyter-intro"
   ]
  },
  {
   "cell_type": "markdown",
   "metadata": {
    "slideshow": {
     "slide_type": "slide"
    }
   },
   "source": [
    "## Overview of Jupyter\n",
    "* Jupyter is a web-based tool for writing code, documentation, tutorials, etc.\n",
    "* What you are reading was created in [Jupyter](http://jupyter.org/)\n",
    "* You can access a free Compute-Canada hosted version of Jupyter at https://uvic.syzygy.ca/."
   ]
  },
  {
   "cell_type": "markdown",
   "metadata": {
    "slideshow": {
     "slide_type": "slide"
    }
   },
   "source": [
    "## Jupyter Kernels (Language Support)\n",
    "* Markdown\n",
    "* Python\n",
    "* Matlab\n",
    "* R\n",
    "* Fortran\n",
    "* C/C++\n",
    "* Julia\n",
    "* Latex Expressions (MathJax)\n",
    "* ~70 in total (https://github.com/jupyter/jupyter/wiki/Jupyter-kernels)"
   ]
  },
  {
   "cell_type": "markdown",
   "metadata": {
    "slideshow": {
     "slide_type": "slide"
    }
   },
   "source": [
    "## Getting up and running in Jupyter\n",
    "* Login to Syzygy with your uvic id.\n",
    "    * **Click \"Keep me signed in for 8 hours\" or your session will fail shortly after login**\n",
    "    * [jupyter@pims.math.ca](mailto:jupyter@pims.math.ca) for support\n",
    "* Create (or upload) a notebook. \n",
    "* Write and run your code"
   ]
  },
  {
   "cell_type": "markdown",
   "metadata": {
    "slideshow": {
     "slide_type": "slide"
    }
   },
   "source": [
    "## You can also\n",
    "* Install Python on your computer and use it directly without Jupyter.\n",
    "* Install Python and Jupyter on your computer and use Jupyter locally\n",
    "* Use other languages with Jupyter..."
   ]
  },
  {
   "cell_type": "markdown",
   "metadata": {
    "slideshow": {
     "slide_type": "slide"
    }
   },
   "source": [
    "## Markdown\n",
    "* Used to write text that can be easily formatted into HTML\n",
    "* In Jupyter you can intermix markdown and code cells to create a living and executable document\n",
    "* A Jupyter notebook can be exported as HTML, Latex, PDF (via Latex), code, used as slides"
   ]
  },
  {
   "cell_type": "markdown",
   "metadata": {
    "slideshow": {
     "slide_type": "slide"
    }
   },
   "source": [
    "### Markdown syntax examples\n",
    "```\n",
    "# Heading 1\n",
    "## Heading 2\n",
    "\n",
    "* Bullet item\n",
    "    * Sub-item\n",
    "\n",
    "**bold** *italics*\n",
    "[Link](www.jupyter.org)\n",
    "![Alt text](image.jpg)\n",
    "\n",
    "a|b\n",
    "---|---\n",
    "c|d\n",
    "```\n",
    "Latex Expressions: `$e^{i\\pi}=0$`, $e^{i\\pi}=0$"
   ]
  },
  {
   "cell_type": "markdown",
   "metadata": {
    "slideshow": {
     "slide_type": "slide"
    }
   },
   "source": [
    "## Jupyter Pros and Cons\n",
    "* Pros\n",
    "    * Integrated documenting, coding and executing\n",
    "    * Support for programming languages and latex\n",
    "    * A lot of plugins (e.g., for section numbering, Zotero)\n",
    "* Cons\n",
    "    * Slide functionality is problematic - mostly text-over-run"
   ]
  },
  {
   "cell_type": "markdown",
   "metadata": {
    "slideshow": {
     "slide_type": "slide"
    }
   },
   "source": [
    "## JupyterLab (In Beta)\n",
    "Towards an integrated development environment for Jupyter"
   ]
  },
  {
   "cell_type": "markdown",
   "metadata": {
    "slideshow": {
     "slide_type": "slide"
    }
   },
   "source": [
    "# Overview of Python\n",
    "* Used widely in academia and industry for data science and numerical analysis (among other uses)\n",
    "* Designed to be simpler than C/Java\n",
    "* There are ~2,506,000 open-source python repositories on GitHub\n",
    "* There are ~134,000 packages across all versions in the Python Package Index (i.e., packages that can be installed in one command, e.g., *pip install numpy*)"
   ]
  },
  {
   "cell_type": "markdown",
   "metadata": {
    "slideshow": {
     "slide_type": "slide"
    }
   },
   "source": [
    "## Python 2 vs 3\n",
    "* This tutorial uses Python 2 because I have a lot of code in Python 2 and only run it - but I should switch\n",
    "* If you are just getting started, use Python 3."
   ]
  },
  {
   "cell_type": "markdown",
   "metadata": {},
   "source": [
    "## Numeric/Scientific Computing in Python\n",
    "* **Numpy** and **Scipy** provide the fundamentals\n",
    "* There are other, more specilaiized libraries for machine learning, control systems, signal processing, networks/graphs etc."
   ]
  },
  {
   "cell_type": "markdown",
   "metadata": {},
   "source": [
    "### Example Numpy modules\n",
    "* Array/Matrix objects\n",
    "* Sorting, searching, and counting\n",
    "* Linear algebra\n",
    "* Discrete Fourier Transform\n",
    "* Polynomials\n",
    "* Random sampling\n",
    "* Logic functions\n",
    "* Financial functions"
   ]
  },
  {
   "cell_type": "markdown",
   "metadata": {},
   "source": [
    "### Example Scipy Modules\n",
    "* Integration (scipy.integrate)\n",
    "* Optimization (scipy.optimize)\n",
    "* Interpolation (scipy.interpolate)\n",
    "* Fourier Transforms (scipy.fftpack)\n",
    "* Signal Processing (scipy.signal)\n",
    "* Linear Algebra (scipy.linalg)"
   ]
  },
  {
   "cell_type": "markdown",
   "metadata": {
    "slideshow": {
     "slide_type": "slide"
    }
   },
   "source": [
    "### Numpy for Matlab Users\n",
    "https://docs.scipy.org/doc/numpy-dev/user/numpy-for-matlab-users.html"
   ]
  },
  {
   "cell_type": "markdown",
   "metadata": {
    "slideshow": {
     "slide_type": "slide"
    }
   },
   "source": [
    "# Python Syntax\n",
    "If you cannot figure out how to do something in Python just google it. Most questions have been asked and answered"
   ]
  },
  {
   "cell_type": "markdown",
   "metadata": {
    "slideshow": {
     "slide_type": "slide"
    }
   },
   "source": [
    "## Variables"
   ]
  },
  {
   "cell_type": "markdown",
   "metadata": {
    "slideshow": {
     "slide_type": "slide"
    }
   },
   "source": [
    "### Define and Print Variables"
   ]
  },
  {
   "cell_type": "code",
   "execution_count": 52,
   "metadata": {
    "slideshow": {
     "slide_type": "fragment"
    }
   },
   "outputs": [],
   "source": [
    "x = 4 # integer\n",
    "y = 3.34523534532123421 # float"
   ]
  },
  {
   "cell_type": "code",
   "execution_count": 53,
   "metadata": {
    "slideshow": {
     "slide_type": "fragment"
    }
   },
   "outputs": [
    {
     "name": "stdout",
     "output_type": "stream",
     "text": [
      "4\n",
      "3.34523534532\n",
      "3.35\n"
     ]
    }
   ],
   "source": [
    "print x\n",
    "print y\n",
    "print '{:.3g}'.format(y)"
   ]
  },
  {
   "cell_type": "code",
   "execution_count": 54,
   "metadata": {
    "slideshow": {
     "slide_type": "fragment"
    }
   },
   "outputs": [
    {
     "name": "stdout",
     "output_type": "stream",
     "text": [
      "4 3.35\n"
     ]
    }
   ],
   "source": [
    "print '{:.3g} {:.3g}'.format(x,y)"
   ]
  },
  {
   "cell_type": "markdown",
   "metadata": {
    "slideshow": {
     "slide_type": "slide"
    }
   },
   "source": [
    "### Boolean"
   ]
  },
  {
   "cell_type": "code",
   "execution_count": 55,
   "metadata": {
    "slideshow": {
     "slide_type": "fragment"
    }
   },
   "outputs": [
    {
     "name": "stdout",
     "output_type": "stream",
     "text": [
      "True\n",
      "False\n",
      "False\n"
     ]
    }
   ],
   "source": [
    "x = True\n",
    "y = False\n",
    "\n",
    "print x\n",
    "print y\n",
    "print x==y"
   ]
  },
  {
   "cell_type": "markdown",
   "metadata": {
    "slideshow": {
     "slide_type": "slide"
    }
   },
   "source": [
    "### Strings"
   ]
  },
  {
   "cell_type": "code",
   "execution_count": 56,
   "metadata": {
    "slideshow": {
     "slide_type": "fragment"
    }
   },
   "outputs": [
    {
     "name": "stdout",
     "output_type": "stream",
     "text": [
      "Hello World\n",
      "Hello Big World 2\n",
      "Hello WorldHello Big World 2\n"
     ]
    }
   ],
   "source": [
    "x = 'Hello World'\n",
    "y = 'Hello {} World {}'.format('Big',2)\n",
    "\n",
    "print x\n",
    "print y\n",
    "print x+y"
   ]
  },
  {
   "cell_type": "markdown",
   "metadata": {
    "slideshow": {
     "slide_type": "slide"
    }
   },
   "source": [
    "### Lists"
   ]
  },
  {
   "cell_type": "code",
   "execution_count": 57,
   "metadata": {
    "slideshow": {
     "slide_type": "fragment"
    }
   },
   "outputs": [],
   "source": [
    "l = [1,2,3,4]"
   ]
  },
  {
   "cell_type": "code",
   "execution_count": 58,
   "metadata": {
    "slideshow": {
     "slide_type": "fragment"
    }
   },
   "outputs": [
    {
     "name": "stdout",
     "output_type": "stream",
     "text": [
      "1\n"
     ]
    }
   ],
   "source": [
    "print l[0] # access item at index 0"
   ]
  },
  {
   "cell_type": "code",
   "execution_count": 59,
   "metadata": {
    "slideshow": {
     "slide_type": "fragment"
    }
   },
   "outputs": [
    {
     "name": "stdout",
     "output_type": "stream",
     "text": [
      "[1, 2, 3, 4, 1, 2, 3, 4]\n"
     ]
    }
   ],
   "source": [
    "print l+l"
   ]
  },
  {
   "cell_type": "code",
   "execution_count": 60,
   "metadata": {
    "slideshow": {
     "slide_type": "fragment"
    }
   },
   "outputs": [
    {
     "name": "stdout",
     "output_type": "stream",
     "text": [
      "4\n"
     ]
    }
   ],
   "source": [
    "print len(l) # get the length of the list"
   ]
  },
  {
   "cell_type": "code",
   "execution_count": 61,
   "metadata": {
    "slideshow": {
     "slide_type": "fragment"
    }
   },
   "outputs": [
    {
     "name": "stdout",
     "output_type": "stream",
     "text": [
      "[4, 3, 2, 1]\n"
     ]
    }
   ],
   "source": [
    "print l[::-1] # get the list in reverse order"
   ]
  },
  {
   "cell_type": "code",
   "execution_count": 62,
   "metadata": {
    "slideshow": {
     "slide_type": "fragment"
    }
   },
   "outputs": [
    {
     "name": "stdout",
     "output_type": "stream",
     "text": [
      "4 1 10\n"
     ]
    }
   ],
   "source": [
    "print max(l), min(l), sum(l)"
   ]
  },
  {
   "cell_type": "code",
   "execution_count": 63,
   "metadata": {
    "slideshow": {
     "slide_type": "slide"
    }
   },
   "outputs": [
    {
     "name": "stdout",
     "output_type": "stream",
     "text": [
      "[1, 2, 3, 4]\n"
     ]
    }
   ],
   "source": [
    "y = [4,2,3,1]\n",
    "y.sort()\n",
    "print y"
   ]
  },
  {
   "cell_type": "code",
   "execution_count": 64,
   "metadata": {
    "slideshow": {
     "slide_type": "fragment"
    }
   },
   "outputs": [
    {
     "name": "stdout",
     "output_type": "stream",
     "text": [
      "[0, 1, 2, 3]\n"
     ]
    }
   ],
   "source": [
    "print range(4) #generate a list"
   ]
  },
  {
   "cell_type": "code",
   "execution_count": 65,
   "metadata": {
    "slideshow": {
     "slide_type": "fragment"
    }
   },
   "outputs": [
    {
     "name": "stdout",
     "output_type": "stream",
     "text": [
      "2\n"
     ]
    }
   ],
   "source": [
    "x = [[1,2],[2,3]] #multi-dimensional list\n",
    "print x[0][1]"
   ]
  },
  {
   "cell_type": "markdown",
   "metadata": {
    "slideshow": {
     "slide_type": "slide"
    }
   },
   "source": [
    "### Dictionaries"
   ]
  },
  {
   "cell_type": "code",
   "execution_count": 66,
   "metadata": {
    "slideshow": {
     "slide_type": "fragment"
    }
   },
   "outputs": [],
   "source": [
    "d = {'a':1,'b':2}"
   ]
  },
  {
   "cell_type": "code",
   "execution_count": 67,
   "metadata": {
    "slideshow": {
     "slide_type": "fragment"
    }
   },
   "outputs": [
    {
     "name": "stdout",
     "output_type": "stream",
     "text": [
      "{'a': 1, 'b': 2}\n"
     ]
    }
   ],
   "source": [
    "print d"
   ]
  },
  {
   "cell_type": "code",
   "execution_count": 68,
   "metadata": {
    "slideshow": {
     "slide_type": "fragment"
    }
   },
   "outputs": [
    {
     "name": "stdout",
     "output_type": "stream",
     "text": [
      "1\n"
     ]
    }
   ],
   "source": [
    "print d['a']"
   ]
  },
  {
   "cell_type": "code",
   "execution_count": 69,
   "metadata": {
    "slideshow": {
     "slide_type": "fragment"
    }
   },
   "outputs": [
    {
     "name": "stdout",
     "output_type": "stream",
     "text": [
      "['a', 'b']\n"
     ]
    }
   ],
   "source": [
    "print d.keys()"
   ]
  },
  {
   "cell_type": "code",
   "execution_count": 70,
   "metadata": {
    "slideshow": {
     "slide_type": "fragment"
    }
   },
   "outputs": [
    {
     "name": "stdout",
     "output_type": "stream",
     "text": [
      "[1, 2]\n"
     ]
    }
   ],
   "source": [
    "print d.values()"
   ]
  },
  {
   "cell_type": "markdown",
   "metadata": {
    "slideshow": {
     "slide_type": "fragment"
    }
   },
   "source": [
    "Keys can be ints, floats, strings. Values can be these or lists, other dictionaries, etc."
   ]
  },
  {
   "cell_type": "markdown",
   "metadata": {
    "slideshow": {
     "slide_type": "slide"
    }
   },
   "source": [
    "## Math Operators"
   ]
  },
  {
   "cell_type": "code",
   "execution_count": 71,
   "metadata": {
    "slideshow": {
     "slide_type": "fragment"
    }
   },
   "outputs": [],
   "source": [
    "x = 2"
   ]
  },
  {
   "cell_type": "code",
   "execution_count": 72,
   "metadata": {},
   "outputs": [
    {
     "name": "stdout",
     "output_type": "stream",
     "text": [
      "4 0 1 4\n"
     ]
    }
   ],
   "source": [
    "print x+x,x-x,x/x,x*x"
   ]
  },
  {
   "cell_type": "code",
   "execution_count": 73,
   "metadata": {
    "slideshow": {
     "slide_type": "fragment"
    }
   },
   "outputs": [
    {
     "name": "stdout",
     "output_type": "stream",
     "text": [
      "4\n"
     ]
    }
   ],
   "source": [
    "print x**2 # exponent"
   ]
  },
  {
   "cell_type": "markdown",
   "metadata": {
    "slideshow": {
     "slide_type": "slide"
    }
   },
   "source": [
    "### Working with integer and float variables"
   ]
  },
  {
   "cell_type": "code",
   "execution_count": 74,
   "metadata": {
    "slideshow": {
     "slide_type": "fragment"
    }
   },
   "outputs": [],
   "source": [
    "x=1 #integer\n",
    "y=2.0 #float\n",
    "\n",
    "z = float(x)\n",
    "w = int(y)"
   ]
  },
  {
   "cell_type": "code",
   "execution_count": 75,
   "metadata": {
    "slideshow": {
     "slide_type": "fragment"
    }
   },
   "outputs": [
    {
     "name": "stdout",
     "output_type": "stream",
     "text": [
      "1 2.0 2 1.0\n"
     ]
    }
   ],
   "source": [
    "print x,y,w,z"
   ]
  },
  {
   "cell_type": "code",
   "execution_count": 76,
   "metadata": {
    "slideshow": {
     "slide_type": "fragment"
    }
   },
   "outputs": [
    {
     "name": "stdout",
     "output_type": "stream",
     "text": [
      "1+2.0 = 3.0\n",
      "1/2 = 0\n",
      "1.0/2.0 = 0.5\n"
     ]
    }
   ],
   "source": [
    "print '1+2.0 =',x+y\n",
    "print '1/2 =',x/w\n",
    "print '1.0/2.0 =',z/y"
   ]
  },
  {
   "cell_type": "markdown",
   "metadata": {
    "slideshow": {
     "slide_type": "slide"
    }
   },
   "source": [
    "## Variable Values and References"
   ]
  },
  {
   "cell_type": "markdown",
   "metadata": {
    "slideshow": {
     "slide_type": "fragment"
    }
   },
   "source": [
    "Number and string values are copied"
   ]
  },
  {
   "cell_type": "code",
   "execution_count": 77,
   "metadata": {
    "slideshow": {
     "slide_type": "fragment"
    }
   },
   "outputs": [],
   "source": [
    "x = 4.0\n",
    "y = x\n",
    "x = 5"
   ]
  },
  {
   "cell_type": "code",
   "execution_count": 78,
   "metadata": {
    "slideshow": {
     "slide_type": "fragment"
    }
   },
   "outputs": [
    {
     "name": "stdout",
     "output_type": "stream",
     "text": [
      "5 4.0\n"
     ]
    }
   ],
   "source": [
    "print x,y"
   ]
  },
  {
   "cell_type": "markdown",
   "metadata": {
    "slideshow": {
     "slide_type": "notes"
    }
   },
   "source": [
    "Lists, dictionaries and other structures are equated by an address in memory (by reference) so a change in value in one variable will also change the value of another variable."
   ]
  },
  {
   "cell_type": "code",
   "execution_count": 1,
   "metadata": {
    "slideshow": {
     "slide_type": "fragment"
    }
   },
   "outputs": [],
   "source": [
    "x = range(2)\n",
    "y = x\n",
    "x[0] = -1"
   ]
  },
  {
   "cell_type": "code",
   "execution_count": 2,
   "metadata": {
    "slideshow": {
     "slide_type": "fragment"
    }
   },
   "outputs": [
    {
     "name": "stdout",
     "output_type": "stream",
     "text": [
      "[-1, 1] [-1, 1]\n"
     ]
    }
   ],
   "source": [
    "print x,y"
   ]
  },
  {
   "cell_type": "markdown",
   "metadata": {
    "slideshow": {
     "slide_type": "slide"
    }
   },
   "source": [
    "## Loops"
   ]
  },
  {
   "cell_type": "markdown",
   "metadata": {
    "slideshow": {
     "slide_type": "slide"
    }
   },
   "source": [
    "### Standard *for* Loop"
   ]
  },
  {
   "cell_type": "code",
   "execution_count": 81,
   "metadata": {
    "slideshow": {
     "slide_type": "fragment"
    }
   },
   "outputs": [
    {
     "name": "stdout",
     "output_type": "stream",
     "text": [
      "1\n",
      "1\n",
      "4\n",
      "27\n",
      "256\n"
     ]
    }
   ],
   "source": [
    "for i in range (5):\n",
    "    print i**i # indent lines within loops by a tab"
   ]
  },
  {
   "cell_type": "markdown",
   "metadata": {
    "slideshow": {
     "slide_type": "slide"
    }
   },
   "source": [
    "### *for* Loop using *enumerate*"
   ]
  },
  {
   "cell_type": "code",
   "execution_count": 82,
   "metadata": {
    "slideshow": {
     "slide_type": "fragment"
    }
   },
   "outputs": [
    {
     "name": "stdout",
     "output_type": "stream",
     "text": [
      "0 0\n",
      "1 2\n",
      "2 4\n",
      "3 6\n",
      "4 8\n"
     ]
    }
   ],
   "source": [
    "for i,v in enumerate(range(5)):\n",
    "    print i,v*2 # prints the index and the value at that index"
   ]
  },
  {
   "cell_type": "markdown",
   "metadata": {
    "slideshow": {
     "slide_type": "slide"
    }
   },
   "source": [
    "### *for* Loop using Dictionaries"
   ]
  },
  {
   "cell_type": "code",
   "execution_count": 83,
   "metadata": {
    "slideshow": {
     "slide_type": "fragment"
    }
   },
   "outputs": [
    {
     "name": "stdout",
     "output_type": "stream",
     "text": [
      "by keys:\n",
      "a 1\n",
      "by iteritems:\n",
      "b 2\n",
      "by iteritems:\n",
      "a 1\n",
      "b 2\n"
     ]
    }
   ],
   "source": [
    "d = {'a':1,'b':2}\n",
    "\n",
    "print 'by keys:'\n",
    "for key in d.keys(): # or just for key in d\n",
    "    print key,d[key]\n",
    "\n",
    "    print 'by iteritems:'\n",
    "for key,value in d.iteritems():\n",
    "    print key,value"
   ]
  },
  {
   "cell_type": "markdown",
   "metadata": {
    "slideshow": {
     "slide_type": "slide"
    }
   },
   "source": [
    "### List comprehension"
   ]
  },
  {
   "cell_type": "code",
   "execution_count": 84,
   "metadata": {
    "slideshow": {
     "slide_type": "fragment"
    }
   },
   "outputs": [
    {
     "name": "stdout",
     "output_type": "stream",
     "text": [
      "[0, 2, 4, 6, 8]\n"
     ]
    }
   ],
   "source": [
    "result = [i+i for i in range(5)]\n",
    "print result"
   ]
  },
  {
   "cell_type": "markdown",
   "metadata": {
    "slideshow": {
     "slide_type": "slide"
    }
   },
   "source": [
    "## Conditionals"
   ]
  },
  {
   "cell_type": "code",
   "execution_count": 85,
   "metadata": {
    "slideshow": {
     "slide_type": "fragment"
    }
   },
   "outputs": [
    {
     "name": "stdout",
     "output_type": "stream",
     "text": [
      "Hello World\n",
      "OR\n"
     ]
    }
   ],
   "source": [
    "flag = True\n",
    "x = 1\n",
    "y = 0\n",
    "if flag == True:\n",
    "    print 'Hello World'# indent lines within ifs by a tab\n",
    "    if x == 1 and y == 1: # a nested IF with an AND\n",
    "        print 'AND'\n",
    "    if x == 1 or y == 1: # a nested IF with an OR\n",
    "        print 'OR'     "
   ]
  },
  {
   "cell_type": "markdown",
   "metadata": {
    "slideshow": {
     "slide_type": "slide"
    }
   },
   "source": [
    "## Functions"
   ]
  },
  {
   "cell_type": "markdown",
   "metadata": {
    "slideshow": {
     "slide_type": "slide"
    }
   },
   "source": [
    "### Standard Functions"
   ]
  },
  {
   "cell_type": "code",
   "execution_count": 86,
   "metadata": {
    "slideshow": {
     "slide_type": "fragment"
    }
   },
   "outputs": [
    {
     "name": "stdout",
     "output_type": "stream",
     "text": [
      "10\n",
      "Hello WorldHello World\n"
     ]
    }
   ],
   "source": [
    "def a_function(x):\n",
    "    y = x+x # indent lines within functions by a tab\n",
    "    print y\n",
    "\n",
    "a_function(5)\n",
    "a_function('Hello World')"
   ]
  },
  {
   "cell_type": "markdown",
   "metadata": {
    "slideshow": {
     "slide_type": "slide"
    }
   },
   "source": [
    "### Functions that return values"
   ]
  },
  {
   "cell_type": "code",
   "execution_count": 87,
   "metadata": {
    "slideshow": {
     "slide_type": "fragment"
    }
   },
   "outputs": [
    {
     "name": "stdout",
     "output_type": "stream",
     "text": [
      "10\n"
     ]
    }
   ],
   "source": [
    "def b_function(x):\n",
    "    return x+x\n",
    "\n",
    "print b_function(5)"
   ]
  },
  {
   "cell_type": "markdown",
   "metadata": {
    "slideshow": {
     "slide_type": "slide"
    }
   },
   "source": [
    "### Shorthand Functions (*lambda*)"
   ]
  },
  {
   "cell_type": "code",
   "execution_count": 88,
   "metadata": {
    "slideshow": {
     "slide_type": "fragment"
    }
   },
   "outputs": [
    {
     "name": "stdout",
     "output_type": "stream",
     "text": [
      "10\n",
      "Hello, WorldHello, World\n"
     ]
    }
   ],
   "source": [
    "a_function2 = lambda x: x+x\n",
    "\n",
    "print a_function2(5)\n",
    "print a_function2('Hello, World')"
   ]
  },
  {
   "cell_type": "markdown",
   "metadata": {
    "slideshow": {
     "slide_type": "slide"
    }
   },
   "source": [
    "## Imports\n",
    "Typically library imports are made at the top of your notebook"
   ]
  },
  {
   "cell_type": "code",
   "execution_count": 89,
   "metadata": {
    "slideshow": {
     "slide_type": "slide"
    }
   },
   "outputs": [
    {
     "name": "stdout",
     "output_type": "stream",
     "text": [
      "[-1  2  3]\n",
      "[-1  2  3]\n",
      "[1 2 3]\n"
     ]
    }
   ],
   "source": [
    "# Importing\n",
    "\n",
    "# all functions and classes in numpy are accessed using np.%name%\n",
    "import numpy as np\n",
    "\n",
    "x = np.array([1,2,3])\n",
    "y = x # sets the reference\n",
    "\n",
    "# importing the function copy in the library copy \n",
    "from copy import copy\n",
    "\n",
    "z = copy(x)\n",
    "x[0] = -1\n",
    "\n",
    "print x\n",
    "print y\n",
    "print z"
   ]
  },
  {
   "cell_type": "code",
   "execution_count": 6,
   "metadata": {
    "slideshow": {
     "slide_type": "slide"
    }
   },
   "outputs": [],
   "source": [
    "# Usefl imports\n",
    "import numpy as np # for array/matrix manipulation\n",
    "import scipy as sp # numerical routines\n",
    "import matplotlib.pyplot as plt # for creating graphs\n",
    "import seaborn as sns # for creating nice graphs quickly\n",
    "import pandas as pd # for reading/writing tabular data"
   ]
  },
  {
   "cell_type": "markdown",
   "metadata": {
    "slideshow": {
     "slide_type": "slide"
    }
   },
   "source": [
    "## Helpful configurations"
   ]
  },
  {
   "cell_type": "code",
   "execution_count": 4,
   "metadata": {},
   "outputs": [],
   "source": [
    "np.set_printoptions(precision=3) # print 3 sig. digits in arrays\n",
    "\n",
    "# So graphs are presented inline when a cell is run:\n",
    "%matplotlib inline \n",
    "\n",
    "mpl.rcParams['figure.figsize'] = [10.4, 7.15] # Set figure/graph size\n",
    "mpl.rcParams['font.size'] = 20 # Set figure/graph font size\n",
    "mpl.rcParams['text.usetex'] = True # Optional (using Latex in graphs)\n",
    "\n",
    "sns.set_style('white') # Recommended configuration for seaborn\n",
    "sns.set_context('talk') # Recommended configuration for seaborn\n",
    "\n",
    "# insert a random number here to seed the (psuedo) random number generator\n",
    "np.random.seed(847) # put in your own random number"
   ]
  },
  {
   "cell_type": "markdown",
   "metadata": {
    "slideshow": {
     "slide_type": "slide"
    }
   },
   "source": [
    "## Intro to Numpy"
   ]
  },
  {
   "cell_type": "markdown",
   "metadata": {
    "slideshow": {
     "slide_type": "slide"
    }
   },
   "source": [
    "### Numpy Math"
   ]
  },
  {
   "cell_type": "code",
   "execution_count": 92,
   "metadata": {
    "slideshow": {
     "slide_type": "fragment"
    }
   },
   "outputs": [
    {
     "name": "stdout",
     "output_type": "stream",
     "text": [
      "3.14159265359\n"
     ]
    }
   ],
   "source": [
    "print np.pi"
   ]
  },
  {
   "cell_type": "code",
   "execution_count": 93,
   "metadata": {
    "slideshow": {
     "slide_type": "fragment"
    }
   },
   "outputs": [
    {
     "name": "stdout",
     "output_type": "stream",
     "text": [
      "2.71828182846\n"
     ]
    }
   ],
   "source": [
    "print np.exp(1)"
   ]
  },
  {
   "cell_type": "code",
   "execution_count": 94,
   "metadata": {
    "slideshow": {
     "slide_type": "fragment"
    }
   },
   "outputs": [
    {
     "name": "stdout",
     "output_type": "stream",
     "text": [
      "1.0\n"
     ]
    }
   ],
   "source": [
    "print np.log(np.exp(1)) #natural logarithm"
   ]
  },
  {
   "cell_type": "code",
   "execution_count": 95,
   "metadata": {
    "slideshow": {
     "slide_type": "fragment"
    }
   },
   "outputs": [
    {
     "name": "stdout",
     "output_type": "stream",
     "text": [
      "1.41421356237\n"
     ]
    }
   ],
   "source": [
    "print np.sqrt(2)"
   ]
  },
  {
   "cell_type": "markdown",
   "metadata": {
    "slideshow": {
     "slide_type": "slide"
    }
   },
   "source": [
    "### Numpy Arrays and Matrices\n",
    "Like lists, but better for numerical calculations"
   ]
  },
  {
   "cell_type": "code",
   "execution_count": 96,
   "metadata": {
    "slideshow": {
     "slide_type": "subslide"
    }
   },
   "outputs": [
    {
     "name": "stdout",
     "output_type": "stream",
     "text": [
      "[1 2 3]\n",
      "[[1 2]\n",
      " [3 4]]\n"
     ]
    }
   ],
   "source": [
    "print np.array([1,2,3])\n",
    "print np.matrix([[1,2],[3,4]]) # we won't use these mutch"
   ]
  },
  {
   "cell_type": "code",
   "execution_count": 97,
   "metadata": {
    "slideshow": {
     "slide_type": "fragment"
    }
   },
   "outputs": [
    {
     "name": "stdout",
     "output_type": "stream",
     "text": [
      "[0 1 2]\n"
     ]
    }
   ],
   "source": [
    "print np.arange(3)"
   ]
  },
  {
   "cell_type": "code",
   "execution_count": 98,
   "metadata": {
    "slideshow": {
     "slide_type": "fragment"
    }
   },
   "outputs": [
    {
     "name": "stdout",
     "output_type": "stream",
     "text": [
      "[ 1.  1.  1.] [ 0.  0.  0.]\n"
     ]
    }
   ],
   "source": [
    "print np.ones(3), np.zeros(3)"
   ]
  },
  {
   "cell_type": "code",
   "execution_count": 99,
   "metadata": {
    "slideshow": {
     "slide_type": "fragment"
    }
   },
   "outputs": [
    {
     "name": "stdout",
     "output_type": "stream",
     "text": [
      "[ 4.  6.  8.]\n"
     ]
    }
   ],
   "source": [
    "print np.linspace(4,8,3)"
   ]
  },
  {
   "cell_type": "markdown",
   "metadata": {
    "slideshow": {
     "slide_type": "fragment"
    }
   },
   "source": [
    "Experiment with other array functions: concatenate, +, - add, subtract, multiply, divide"
   ]
  },
  {
   "cell_type": "markdown",
   "metadata": {
    "slideshow": {
     "slide_type": "fragment"
    }
   },
   "source": [
    "## Random Numbers and Plotting"
   ]
  },
  {
   "cell_type": "code",
   "execution_count": 7,
   "metadata": {
    "slideshow": {
     "slide_type": "slide"
    }
   },
   "outputs": [
    {
     "data": {
      "image/png": "[encoded data removed]",
      "text/plain": [
       "<matplotlib.figure.Figure at 0x1ade5470>"
      ]
     },
     "metadata": {},
     "output_type": "display_data"
    }
   ],
   "source": [
    "# random numbers betweeen 0 and 1, other distributions available in np.random\n",
    "x = np.random.random(1000)\n",
    "y = np.random.random(1000)\n",
    "\n",
    "fig, axes = plt.subplots(nrows=1, ncols=2, figsize=(10.4,3.5))\n",
    "\n",
    "axes[0].plot(x,y,'.'); # the semi-colon hides an uneeded output\n",
    "axes[0].set(title='Uniform distribution samples', xlabel='X', ylabel='Y');\n",
    "\n",
    "sns.distplot(x, kde=False, ax=axes[1]); # histogram\n",
    "axes[1].set(title='Histogram of Samples', xlabel='x', \n",
    "            ylabel='Occurrences');"
   ]
  },
  {
   "cell_type": "markdown",
   "metadata": {
    "slideshow": {
     "slide_type": "slide"
    }
   },
   "source": [
    "## Pandas\n",
    "Read, write and work with tabular files"
   ]
  },
  {
   "cell_type": "code",
   "execution_count": 9,
   "metadata": {
    "slideshow": {
     "slide_type": "slide"
    }
   },
   "outputs": [
    {
     "name": "stdout",
     "output_type": "stream",
     "text": [
      "          x         y\n",
      "0  0.102258  0.113201\n",
      "1  0.474799  0.595240\n",
      "2  0.414108  0.572583\n",
      "3  0.590336  0.450980\n",
      "4  0.194600  0.330423\n",
      "5  0.180427  0.556806\n",
      "6  0.785828  0.499291\n",
      "7  0.260421  0.498740\n",
      "8  0.540955  0.623766\n",
      "9  0.998440  0.617484\n"
     ]
    }
   ],
   "source": [
    "df = pd.read_csv('../data/randomdata.csv')\n",
    "print df[0:10]"
   ]
  },
  {
   "cell_type": "code",
   "execution_count": 102,
   "metadata": {
    "slideshow": {
     "slide_type": "slide"
    }
   },
   "outputs": [
    {
     "name": "stdout",
     "output_type": "stream",
     "text": [
      "<type 'numpy.ndarray'>\n"
     ]
    }
   ],
   "source": [
    "print type(df['x'].values)"
   ]
  }
 ],
 "metadata": {
  "celltoolbar": "Slideshow",
  "hide_input": false,
  "kernelspec": {
   "display_name": "Python 2",
   "language": "python",
   "name": "python2"
  },
  "language_info": {
   "codemirror_mode": {
    "name": "ipython",
    "version": 2
   },
   "file_extension": ".py",
   "mimetype": "text/x-python",
   "name": "python",
   "nbconvert_exporter": "python",
   "pygments_lexer": "ipython2",
   "version": "2.7.13"
  },
  "toc": {
   "nav_menu": {},
   "number_sections": true,
   "sideBar": true,
   "skip_h1_title": false,
   "toc_cell": true,
   "toc_position": {
    "height": "958px",
    "left": "0px",
    "right": "1552px",
    "top": "111px",
    "width": "366px"
   },
   "toc_section_display": "block",
   "toc_window_display": false
  },
  "varInspector": {
   "cols": {
    "lenName": 16,
    "lenType": 16,
    "lenVar": 40
   },
   "kernels_config": {
    "python": {
     "delete_cmd_postfix": "",
     "delete_cmd_prefix": "del ",
     "library": "var_list.py",
     "varRefreshCmd": "print(var_dic_list())"
    },
    "r": {
     "delete_cmd_postfix": ") ",
     "delete_cmd_prefix": "rm(",
     "library": "var_list.r",
     "varRefreshCmd": "cat(var_dic_list()) "
    }
   },
   "types_to_exclude": [
    "module",
    "function",
    "builtin_function_or_method",
    "instance",
    "_Feature"
   ],
   "window_display": false
  }
 },
 "nbformat": 4,
 "nbformat_minor": 1
}
